{
 "cells": [
  {
   "cell_type": "code",
   "execution_count": 1,
   "metadata": {},
   "outputs": [
    {
     "name": "stdout",
     "output_type": "stream",
     "text": [
      "<!doctype html>\n",
      "<html>\n",
      "  <head>\n",
      "    <meta charset=\"utf-8\">\n",
      "    <meta http-equiv=\"X-UA-Compatible\" content=\"chrome=1\">\n",
      "    <title>臺北市政府 交通即時資料 開放資料專區 by taipeicity</title>\n",
      "\n",
      "    <link rel=\"stylesheet\" href=\"stylesheets/styles.css\">\n",
      "    <link rel=\"stylesheet\" href=\"stylesheets/github-light.css\">\n",
      "    <script src=\"javascripts/scale.fix.js\"></script>\n",
      "\t<script type=\"text/javascript\"  src=\"javascripts/normal.js\"></script>\n",
      "    <meta name=\"viewport\" content=\"width=device-\n"
     ]
    }
   ],
   "source": [
    "import urllib.request \n",
    "url = 'https://taipeicity.github.io/traffic_realtime/'\n",
    "with urllib.request.urlopen(url) as html:\n",
    "    print(html.read(500).decode('utf-8'))"
   ]
  },
  {
   "cell_type": "code",
   "execution_count": 2,
   "metadata": {},
   "outputs": [],
   "source": [
    "from urllib.request import urlopen\n",
    "from urllib.error import HTTPError\n",
    "from bs4 import BeautifulSoup#靜態網頁解析套件\n",
    "import sys"
   ]
  },
  {
   "cell_type": "code",
   "execution_count": 4,
   "metadata": {},
   "outputs": [],
   "source": [
    "#預備網頁無法打開動作\n",
    "def getTitle(url):\n",
    "    try:\n",
    "        html = urlopen(url)\n",
    "    except HTTPError as e:\n",
    "        print(e)\n",
    "        return None\n",
    "    try:\n",
    "        bsObj = BeautifulSoup(html, \"html.parser\")\n",
    "        title = bsObj.body.h1\n",
    "    except HTTPError as e:\n",
    "        return None\n",
    "    return title"
   ]
  },
  {
   "cell_type": "code",
   "execution_count": 5,
   "metadata": {},
   "outputs": [
    {
     "name": "stdout",
     "output_type": "stream",
     "text": [
      "<h1 class=\"header\">臺北市政府 交通即時資料 開放資料專區</h1>\n"
     ]
    }
   ],
   "source": [
    "title = getTitle(\"https://taipeicity.github.io/traffic_realtime/\")\n",
    "if title == None:\n",
    "    print(\"Title could note be found\")\n",
    "else:\n",
    "    print(title)"
   ]
  },
  {
   "cell_type": "code",
   "execution_count": null,
   "metadata": {},
   "outputs": [],
   "source": []
  }
 ],
 "metadata": {
  "kernelspec": {
   "display_name": "Python 3",
   "language": "python",
   "name": "python3"
  },
  "language_info": {
   "codemirror_mode": {
    "name": "ipython",
    "version": 3
   },
   "file_extension": ".py",
   "mimetype": "text/x-python",
   "name": "python",
   "nbconvert_exporter": "python",
   "pygments_lexer": "ipython3",
   "version": "3.8.11"
  }
 },
 "nbformat": 4,
 "nbformat_minor": 4
}
