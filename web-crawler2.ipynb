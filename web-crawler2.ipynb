{
 "cells": [
  {
   "cell_type": "code",
   "execution_count": 2,
   "metadata": {},
   "outputs": [
    {
     "name": "stdout",
     "output_type": "stream",
     "text": [
      "<!doctype html>\n",
      "<html>\n",
      "  <head>\n",
      "    <meta charset=\"utf-8\">\n",
      "    <meta http-equiv=\"X-UA-Compatible\" content=\"chrome=1\">\n",
      "    <title>臺北市政府 交通即時資料 開放資料專區 by taipeicity</title>\n",
      "\n",
      "    <link rel=\"stylesheet\" href=\"stylesheets/styles.css\">\n",
      "    <link rel=\"stylesheet\" href=\"stylesheets/github-light.css\">\n",
      "    <script src=\"javascripts/scale.fix.js\"></script>\n",
      "\t<script type=\"text/javascript\"  src=\"javascripts/normal.js\"></script>\n",
      "    <meta name=\"viewport\" content=\"width=device-\n"
     ]
    }
   ],
   "source": [
    "import urllib.request \n",
    "with urllib.request.urlopen('https://taipeicity.github.io/traffic_realtime/') as html:\n",
    "    print(html.read(500).decode('utf-8'))"
   ]
  },
  {
   "cell_type": "code",
   "execution_count": null,
   "metadata": {},
   "outputs": [],
   "source": []
  }
 ],
 "metadata": {
  "kernelspec": {
   "display_name": "Python 3",
   "language": "python",
   "name": "python3"
  },
  "language_info": {
   "codemirror_mode": {
    "name": "ipython",
    "version": 3
   },
   "file_extension": ".py",
   "mimetype": "text/x-python",
   "name": "python",
   "nbconvert_exporter": "python",
   "pygments_lexer": "ipython3",
   "version": "3.8.11"
  }
 },
 "nbformat": 4,
 "nbformat_minor": 4
}
