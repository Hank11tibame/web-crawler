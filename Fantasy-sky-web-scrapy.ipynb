{
 "cells": [
  {
   "cell_type": "code",
   "execution_count": 1,
   "metadata": {},
   "outputs": [
    {
     "name": "stdout",
     "output_type": "stream",
     "text": [
      "['Disney and Pixar’s Soul', 'Minari', 'Our Friend', 'A Quiet Place Part II', 'Peter Rabbit 2: The Runaway', \"The Hitman's Wife's Bodyguard\", 'Those Who Wish Me Dead', 'Mortal Kombat', 'Godzilla vs. Kong', 'The Father', 'Judas And The Black Messiah', 'I Care A Lot', 'Tom & Jerry', 'The Marksman', 'Endgame', 'Double World', 'The Swordsman', 'Caught in Time', 'Number 1', 'Godai - The Wunderkind', 'True Mothers', 'We Made a Beautiful Bouquet', 'The Untold Tale of the Three Kingdoms', 'Hold Me Back', 'Crescendo', 'The Rose Maker', 'Summit: Steel Rain', 'New Year Blues', 'The Space Between The Lines']\n",
      "[\"Disney and Pixar's Onward\", \"Disney's Cinderella\", 'Disney And Pixar’s Cars 3', 'Happy Feet', \"Disney's Moana\", 'Rio 2', 'The Lego Batman Movie', 'Trolls']\n",
      "['Better Days', 'Still Human', 'Beyond Beauty -Taiwan from Above', 'Dark Figure of Crime', 'One Night', 'Heavy Craving', 'The Last Recipe', 'Exit']\n",
      "['Ready Player One', \"Marvel Studios' Avengers: Infinity War\", 'The Shape Of Water', 'Solo: A Star Wars Story', 'In The Heart Of The Sea', 'The Meg', 'Blade Runner 2049', 'Gangster Squad', 'Marvel Studios’ Ant-Man', 'Dolittle', 'Jojo Rabbit', 'Tenet', 'Hairspray', 'I Am Sam', 'Captain America: The First Avenger', 'The Devil Wears Prada', 'Harry Potter & The Goblet of Fire', 'The Maze Runner', 'The Best Exotic Marigold Hotel', 'I Am Legend', 'Ford v Ferrari', 'Furious 7', \"The Time Traveler's Wife\", 'Inception', \"Marvel's Thor: Ragnarok\", 'Jason Bourne', 'Batman Begins', 'Moulin Rouge', 'Pacific Rim', 'Crazy, Stupid, Love', 'The Hobbit: The Battle Of The Five Armies', 'The Good Liar', 'The Wolverine', 'Rogue One: A Star Wars Story', 'Three Billboards Outside…', 'X-Men: Apocalypse', 'The Bucket List', 'Mad Max: Fury Road', 'Hidden Figures', 'Aquaman', 'Horrible Bosses']\n"
     ]
    }
   ],
   "source": [
    "from bs4 import BeautifulSoup\n",
    "import requests\n",
    "Request_URL = \"https://www.fantasy-sky.com/ContentList.aspx\"\n",
    "en_cookie = {\n",
    "    'COOKIE_LANGUAGE':'en'\n",
    "}\n",
    "movies_name_cs = \".movies-name\"\n",
    "for i in range(1,4+1):\n",
    "    query_string_parameters = {\n",
    "        'section':'002',\n",
    "        'category':'0020{}'.format(i)\n",
    "    }\n",
    "    response = requests.get(Request_URL,params=query_string_parameters, cookies=en_cookie)\n",
    "    soup = BeautifulSoup(response.text)\n",
    "    movies_name = [e.text for e in soup.select(movies_name_cs)]\n",
    "    print(movies_name)"
   ]
  }
 ],
 "metadata": {
  "kernelspec": {
   "display_name": "Python 3",
   "language": "python",
   "name": "python3"
  },
  "language_info": {
   "codemirror_mode": {
    "name": "ipython",
    "version": 3
   },
   "file_extension": ".py",
   "mimetype": "text/x-python",
   "name": "python",
   "nbconvert_exporter": "python",
   "pygments_lexer": "ipython3",
   "version": "3.8.11"
  }
 },
 "nbformat": 4,
 "nbformat_minor": 4
}
